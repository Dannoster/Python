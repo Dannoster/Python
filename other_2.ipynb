{
 "cells": [
  {
   "cell_type": "code",
   "execution_count": 7,
   "metadata": {},
   "outputs": [
    {
     "name": "stdout",
     "output_type": "stream",
     "text": [
      "{(0, 1), (0, 0), (-1, 0), (1, 0), (0, -1)}\n",
      "11\n"
     ]
    }
   ],
   "source": [
    "N, M, R = input().split()\n",
    "N, M, R = int(N), int(M), int(R)\n",
    "\n",
    "NxM = []\n",
    "for i in range(N):\n",
    "    line = input().split()\n",
    "    line = list(map(lambda a: int(a), line))\n",
    "    NxM.append(line)\n",
    "\n",
    "set_of_ij = set()\n",
    "for i in  range(R+1):\n",
    "    for j in  range(R+1):\n",
    "        if  i**2 + j**2 <= R**2:\n",
    "            set_of_ij.add( (i, j) )\n",
    "            set_of_ij.add( (-i, j) )\n",
    "            set_of_ij.add( (i, -j) )\n",
    "            set_of_ij.add( (-i, -j) )\n",
    "\n",
    "sum = 0\n",
    "for r in range(N):\n",
    "    for c in range(M):\n",
    "        new_sum = 0\n",
    "        for i, j in set_of_ij:\n",
    "            try:\n",
    "                if r+i >= 0 and c+j >= 0:\n",
    "                    new_sum += NxM[r+i][c+j]\n",
    "            except:\n",
    "                None\n",
    "        if new_sum > sum:\n",
    "            sum = new_sum\n",
    "    \n",
    "print(sum)"
   ]
  }
 ],
 "metadata": {
  "kernelspec": {
   "display_name": "Python 3.9.3 64-bit",
   "language": "python",
   "name": "python3"
  },
  "language_info": {
   "codemirror_mode": {
    "name": "ipython",
    "version": 3
   },
   "file_extension": ".py",
   "mimetype": "text/x-python",
   "name": "python",
   "nbconvert_exporter": "python",
   "pygments_lexer": "ipython3",
   "version": "3.9.3"
  },
  "orig_nbformat": 4,
  "vscode": {
   "interpreter": {
    "hash": "aee8b7b246df8f9039afb4144a1f6fd8d2ca17a180786b69acc140d282b71a49"
   }
  }
 },
 "nbformat": 4,
 "nbformat_minor": 2
}
