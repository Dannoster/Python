{
 "cells": [
  {
   "cell_type": "code",
   "execution_count": 42,
   "metadata": {},
   "outputs": [
    {
     "name": "stdout",
     "output_type": "stream",
     "text": [
      "11\n"
     ]
    }
   ],
   "source": [
    "import copy\n",
    "\n",
    "N, M, R = input().split()\n",
    "N, M, R = int(N), int(M), int(R)\n",
    "\n",
    "\n",
    "NxM = []\n",
    "for i in range(N):\n",
    "    line = input().split()\n",
    "    line = list(map(lambda a: int(a), line))\n",
    "    NxM.append(line)\n",
    "\n",
    "\n",
    "def sum_in_circle(r, c, i, j, R):\n",
    "    \n",
    "    global new_sum, NxM, set_of_ij\n",
    "\n",
    "    if NxM[i][j] == None or (i-r)**2 + (j-c)**2 > R**2:\n",
    "        return None\n",
    "    \n",
    "    new_sum += NxM[i][j]\n",
    "    set_of_ij.add( (i, j, NxM[i][j]) )\n",
    "    NxM[i][j] = None\n",
    "    # print(NxM)\n",
    "    \n",
    "    for i_new in range(i-1, i+2):\n",
    "        for j_new in range(i-1, i+2):\n",
    "            if i_new >= 0 and j_new >= 0:\n",
    "                # print((i_new,j_new))\n",
    "                try:\n",
    "                    sum_in_circle(r, c, i_new, j_new, R)\n",
    "                except:\n",
    "                    None\n",
    "\n",
    "sum = 0\n",
    "for r in range(N):\n",
    "    for c in range(M):\n",
    "        new_sum = 0\n",
    "        set_of_ij = set()\n",
    "        sum_in_circle(r, c, r, c, R)\n",
    "        # print(new_sum, \"\\n\\n\")\n",
    "        if new_sum > sum:\n",
    "            sum = new_sum\n",
    "        for i, j, value in set_of_ij:\n",
    "            NxM[i][j] = value\n",
    "    \n",
    "print(sum)\n"
   ]
  }
 ],
 "metadata": {
  "kernelspec": {
   "display_name": "Python 3.9.3 64-bit",
   "language": "python",
   "name": "python3"
  },
  "language_info": {
   "codemirror_mode": {
    "name": "ipython",
    "version": 3
   },
   "file_extension": ".py",
   "mimetype": "text/x-python",
   "name": "python",
   "nbconvert_exporter": "python",
   "pygments_lexer": "ipython3",
   "version": "3.9.3"
  },
  "orig_nbformat": 4,
  "vscode": {
   "interpreter": {
    "hash": "aee8b7b246df8f9039afb4144a1f6fd8d2ca17a180786b69acc140d282b71a49"
   }
  }
 },
 "nbformat": 4,
 "nbformat_minor": 2
}
